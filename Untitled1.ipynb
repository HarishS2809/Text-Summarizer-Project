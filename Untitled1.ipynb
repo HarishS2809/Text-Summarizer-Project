{
 "cells": [
  {
   "cell_type": "code",
   "execution_count": 1,
   "id": "50709f46",
   "metadata": {},
   "outputs": [],
   "source": [
    "import spacy"
   ]
  },
  {
   "cell_type": "code",
   "execution_count": 11,
   "id": "33b9300b",
   "metadata": {},
   "outputs": [],
   "source": [
    "nlp = spacy.blank('en')\n",
    "\n",
    "doc = nlp('Note: you may need to restart the kernal to use updated packages') "
   ]
  },
  {
   "cell_type": "code",
   "execution_count": 12,
   "id": "f40c245a",
   "metadata": {},
   "outputs": [
    {
     "name": "stdout",
     "output_type": "stream",
     "text": [
      "Note\n",
      ":\n",
      "you\n",
      "may\n",
      "need\n",
      "to\n",
      "restart\n",
      "the\n",
      "kernal\n",
      "to\n",
      "use\n",
      "updated\n",
      "packages\n"
     ]
    }
   ],
   "source": [
    "for token in doc:\n",
    "    print(token)"
   ]
  },
  {
   "cell_type": "code",
   "execution_count": 13,
   "id": "b7af1232",
   "metadata": {},
   "outputs": [
    {
     "data": {
      "text/plain": [
       "spacy.lang.en.English"
      ]
     },
     "execution_count": 13,
     "metadata": {},
     "output_type": "execute_result"
    }
   ],
   "source": [
    "type(nlp)"
   ]
  },
  {
   "cell_type": "code",
   "execution_count": 14,
   "id": "12501da5",
   "metadata": {},
   "outputs": [
    {
     "data": {
      "text/plain": [
       "spacy.tokens.doc.Doc"
      ]
     },
     "execution_count": 14,
     "metadata": {},
     "output_type": "execute_result"
    }
   ],
   "source": [
    "type(doc)"
   ]
  },
  {
   "cell_type": "code",
   "execution_count": 17,
   "id": "e10ac705",
   "metadata": {},
   "outputs": [
    {
     "data": {
      "text/plain": [
       "'Note'"
      ]
     },
     "execution_count": 17,
     "metadata": {},
     "output_type": "execute_result"
    }
   ],
   "source": [
    "t = doc[0]\n",
    "t.text"
   ]
  },
  {
   "cell_type": "code",
   "execution_count": 18,
   "id": "123696ee",
   "metadata": {},
   "outputs": [
    {
     "data": {
      "text/plain": [
       "spacy.tokens.token.Token"
      ]
     },
     "execution_count": 18,
     "metadata": {},
     "output_type": "execute_result"
    }
   ],
   "source": [
    "type(t)"
   ]
  },
  {
   "cell_type": "code",
   "execution_count": 19,
   "id": "21def1f9",
   "metadata": {},
   "outputs": [
    {
     "data": {
      "text/plain": [
       "['_',\n",
       " '__bytes__',\n",
       " '__class__',\n",
       " '__delattr__',\n",
       " '__dir__',\n",
       " '__doc__',\n",
       " '__eq__',\n",
       " '__format__',\n",
       " '__ge__',\n",
       " '__getattribute__',\n",
       " '__gt__',\n",
       " '__hash__',\n",
       " '__init__',\n",
       " '__init_subclass__',\n",
       " '__le__',\n",
       " '__len__',\n",
       " '__lt__',\n",
       " '__ne__',\n",
       " '__new__',\n",
       " '__pyx_vtable__',\n",
       " '__reduce__',\n",
       " '__reduce_ex__',\n",
       " '__repr__',\n",
       " '__setattr__',\n",
       " '__sizeof__',\n",
       " '__str__',\n",
       " '__subclasshook__',\n",
       " '__unicode__',\n",
       " 'ancestors',\n",
       " 'check_flag',\n",
       " 'children',\n",
       " 'cluster',\n",
       " 'conjuncts',\n",
       " 'dep',\n",
       " 'dep_',\n",
       " 'doc',\n",
       " 'ent_id',\n",
       " 'ent_id_',\n",
       " 'ent_iob',\n",
       " 'ent_iob_',\n",
       " 'ent_kb_id',\n",
       " 'ent_kb_id_',\n",
       " 'ent_type',\n",
       " 'ent_type_',\n",
       " 'get_extension',\n",
       " 'has_dep',\n",
       " 'has_extension',\n",
       " 'has_head',\n",
       " 'has_morph',\n",
       " 'has_vector',\n",
       " 'head',\n",
       " 'i',\n",
       " 'idx',\n",
       " 'iob_strings',\n",
       " 'is_alpha',\n",
       " 'is_ancestor',\n",
       " 'is_ascii',\n",
       " 'is_bracket',\n",
       " 'is_currency',\n",
       " 'is_digit',\n",
       " 'is_left_punct',\n",
       " 'is_lower',\n",
       " 'is_oov',\n",
       " 'is_punct',\n",
       " 'is_quote',\n",
       " 'is_right_punct',\n",
       " 'is_sent_end',\n",
       " 'is_sent_start',\n",
       " 'is_space',\n",
       " 'is_stop',\n",
       " 'is_title',\n",
       " 'is_upper',\n",
       " 'lang',\n",
       " 'lang_',\n",
       " 'left_edge',\n",
       " 'lefts',\n",
       " 'lemma',\n",
       " 'lemma_',\n",
       " 'lex',\n",
       " 'lex_id',\n",
       " 'like_email',\n",
       " 'like_num',\n",
       " 'like_url',\n",
       " 'lower',\n",
       " 'lower_',\n",
       " 'morph',\n",
       " 'n_lefts',\n",
       " 'n_rights',\n",
       " 'nbor',\n",
       " 'norm',\n",
       " 'norm_',\n",
       " 'orth',\n",
       " 'orth_',\n",
       " 'pos',\n",
       " 'pos_',\n",
       " 'prefix',\n",
       " 'prefix_',\n",
       " 'prob',\n",
       " 'rank',\n",
       " 'remove_extension',\n",
       " 'right_edge',\n",
       " 'rights',\n",
       " 'sent',\n",
       " 'sent_start',\n",
       " 'sentiment',\n",
       " 'set_extension',\n",
       " 'set_morph',\n",
       " 'shape',\n",
       " 'shape_',\n",
       " 'similarity',\n",
       " 'subtree',\n",
       " 'suffix',\n",
       " 'suffix_',\n",
       " 'tag',\n",
       " 'tag_',\n",
       " 'tensor',\n",
       " 'text',\n",
       " 'text_with_ws',\n",
       " 'vector',\n",
       " 'vector_norm',\n",
       " 'vocab',\n",
       " 'whitespace_']"
      ]
     },
     "execution_count": 19,
     "metadata": {},
     "output_type": "execute_result"
    }
   ],
   "source": [
    "dir(t)"
   ]
  },
  {
   "cell_type": "code",
   "execution_count": 21,
   "id": "b96defbc",
   "metadata": {},
   "outputs": [
    {
     "data": {
      "text/plain": [
       "Note: you may need"
      ]
     },
     "execution_count": 21,
     "metadata": {},
     "output_type": "execute_result"
    }
   ],
   "source": [
    "s = doc[:5]\n",
    "s"
   ]
  },
  {
   "cell_type": "code",
   "execution_count": 22,
   "id": "a6425c26",
   "metadata": {},
   "outputs": [
    {
     "data": {
      "text/plain": [
       "spacy.tokens.span.Span"
      ]
     },
     "execution_count": 22,
     "metadata": {},
     "output_type": "execute_result"
    }
   ],
   "source": [
    "type(s)"
   ]
  },
  {
   "cell_type": "code",
   "execution_count": 34,
   "id": "56947d84",
   "metadata": {},
   "outputs": [],
   "source": [
    "doc = nlp('I have fifty $ in my bank account')"
   ]
  },
  {
   "cell_type": "code",
   "execution_count": 35,
   "id": "263edf1c",
   "metadata": {},
   "outputs": [],
   "source": [
    "t1 = doc[0]"
   ]
  },
  {
   "cell_type": "code",
   "execution_count": 36,
   "id": "90143272",
   "metadata": {},
   "outputs": [
    {
     "data": {
      "text/plain": [
       "True"
      ]
     },
     "execution_count": 36,
     "metadata": {},
     "output_type": "execute_result"
    }
   ],
   "source": [
    "t1.is_alpha"
   ]
  },
  {
   "cell_type": "code",
   "execution_count": 37,
   "id": "76b5ba71",
   "metadata": {},
   "outputs": [
    {
     "data": {
      "text/plain": [
       "False"
      ]
     },
     "execution_count": 37,
     "metadata": {},
     "output_type": "execute_result"
    }
   ],
   "source": [
    "t1.like_num"
   ]
  },
  {
   "cell_type": "code",
   "execution_count": 38,
   "id": "e1a8d041",
   "metadata": {},
   "outputs": [
    {
     "data": {
      "text/plain": [
       "fifty"
      ]
     },
     "execution_count": 38,
     "metadata": {},
     "output_type": "execute_result"
    }
   ],
   "source": [
    "t2 = doc[2]\n",
    "t2"
   ]
  },
  {
   "cell_type": "code",
   "execution_count": 39,
   "id": "2a7e5b72",
   "metadata": {},
   "outputs": [
    {
     "data": {
      "text/plain": [
       "True"
      ]
     },
     "execution_count": 39,
     "metadata": {},
     "output_type": "execute_result"
    }
   ],
   "source": [
    "t2.like_num"
   ]
  },
  {
   "cell_type": "code",
   "execution_count": 40,
   "id": "92be7a76",
   "metadata": {},
   "outputs": [
    {
     "data": {
      "text/plain": [
       "$"
      ]
     },
     "execution_count": 40,
     "metadata": {},
     "output_type": "execute_result"
    }
   ],
   "source": [
    "t3 = doc[3]\n",
    "t3"
   ]
  },
  {
   "cell_type": "code",
   "execution_count": 41,
   "id": "65e7570e",
   "metadata": {},
   "outputs": [
    {
     "data": {
      "text/plain": [
       "True"
      ]
     },
     "execution_count": 41,
     "metadata": {},
     "output_type": "execute_result"
    }
   ],
   "source": [
    "t3.is_currency"
   ]
  },
  {
   "cell_type": "code",
   "execution_count": 42,
   "id": "68d45a85",
   "metadata": {},
   "outputs": [
    {
     "data": {
      "text/plain": [
       "False"
      ]
     },
     "execution_count": 42,
     "metadata": {},
     "output_type": "execute_result"
    }
   ],
   "source": [
    "t3.is_alpha"
   ]
  },
  {
   "cell_type": "code",
   "execution_count": 47,
   "id": "e861a826",
   "metadata": {},
   "outputs": [
    {
     "name": "stdout",
     "output_type": "stream",
     "text": [
      "I -----> index: 0 is_alpha: True is_punct: False like_num: False is_currency: False\n",
      "have -----> index: 1 is_alpha: True is_punct: False like_num: False is_currency: False\n",
      "fifty -----> index: 2 is_alpha: True is_punct: False like_num: True is_currency: False\n",
      "$ -----> index: 3 is_alpha: False is_punct: False like_num: False is_currency: True\n",
      "in -----> index: 4 is_alpha: True is_punct: False like_num: False is_currency: False\n",
      "my -----> index: 5 is_alpha: True is_punct: False like_num: False is_currency: False\n",
      "bank -----> index: 6 is_alpha: True is_punct: False like_num: False is_currency: False\n",
      "account -----> index: 7 is_alpha: True is_punct: False like_num: False is_currency: False\n"
     ]
    }
   ],
   "source": [
    "for token in doc:\n",
    "    print(token,'----->','index:',token.i,'is_alpha:',token.is_alpha,\n",
    "         'is_punct:',token.is_punct,\n",
    "         'like_num:',token.like_num,\n",
    "         'is_currency:',token.is_currency)"
   ]
  },
  {
   "cell_type": "code",
   "execution_count": 56,
   "id": "1770f5a4",
   "metadata": {},
   "outputs": [],
   "source": [
    "with open('student.txt','x') as f:\n",
    "    f.write('Itvedant student details:\\n')\n",
    "    f.write('Name\\tDOb\\temail\\n')\n",
    "    f.write('Sajal\\t15 August, 2001\\tsajal@mondal.com\\n')\n",
    "    f.write('Harish\\t25 December, 1979\\tharish@munnar.com\\n')\n",
    "    f.write('Abhinand\\t31 Febraury,1969\\tabhinand@majestic.com\\n')"
   ]
  },
  {
   "cell_type": "code",
   "execution_count": 58,
   "id": "01bc1583",
   "metadata": {},
   "outputs": [
    {
     "name": "stdout",
     "output_type": "stream",
     "text": [
      "['Itvedant student details:\\n', 'Name\\tDOb\\temail\\n', 'Sajal\\t15 August, 2001\\tsajal@mondal.com\\n', 'Harish\\t25 December, 1979\\tharish@munnar.com\\n', 'Abhinand\\t31 Febraury,1969\\tabhinand@majestic.com\\n']\n"
     ]
    }
   ],
   "source": [
    "with open('student.txt','r') as f:\n",
    "    text = f.readlines()\n",
    "print(text)"
   ]
  },
  {
   "cell_type": "code",
   "execution_count": 59,
   "id": "ba8304c3",
   "metadata": {},
   "outputs": [
    {
     "data": {
      "text/plain": [
       "'Itvedant student details:\\n Name\\tDOb\\temail\\n Sajal\\t15 August, 2001\\tsajal@mondal.com\\n Harish\\t25 December, 1979\\tharish@munnar.com\\n Abhinand\\t31 Febraury,1969\\tabhinand@majestic.com\\n'"
      ]
     },
     "execution_count": 59,
     "metadata": {},
     "output_type": "execute_result"
    }
   ],
   "source": [
    "text = ' '.join(text)\n",
    "text"
   ]
  },
  {
   "cell_type": "code",
   "execution_count": 61,
   "id": "9660a693",
   "metadata": {},
   "outputs": [
    {
     "data": {
      "text/plain": [
       "['sajal@mondal.com', 'harish@munnar.com', 'abhinand@majestic.com']"
      ]
     },
     "execution_count": 61,
     "metadata": {},
     "output_type": "execute_result"
    }
   ],
   "source": [
    "doc = nlp(text)\n",
    "emails = []\n",
    "for token in doc:\n",
    "    if token.like_email:\n",
    "        emails.append(token.text)\n",
    "        \n",
    "emails"
   ]
  },
  {
   "cell_type": "code",
   "execution_count": 63,
   "id": "5a3ee24b",
   "metadata": {},
   "outputs": [
    {
     "name": "stdout",
     "output_type": "stream",
     "text": [
      "தம்பி False\n",
      "என் False\n",
      "5000 False\n",
      "₹ True\n",
      "திருப்பிக் False\n",
      "கொடு False\n"
     ]
    }
   ],
   "source": [
    "nlp = spacy.blank('hi')\n",
    "doc = nlp('தம்பி என் 5000₹ திருப்பிக் கொடு')\n",
    "for token in doc:\n",
    "    print(token,token.is_currency)"
   ]
  },
  {
   "cell_type": "code",
   "execution_count": 66,
   "id": "6f66e668",
   "metadata": {},
   "outputs": [
    {
     "data": {
      "text/plain": [
       "['Gimme', 'a', 'sentence', 'to', 'perform', 'customizing', 'tokenizer']"
      ]
     },
     "execution_count": 66,
     "metadata": {},
     "output_type": "execute_result"
    }
   ],
   "source": [
    "from spacy.symbols import ORTH\n",
    "\n",
    "nlp = spacy.blank('en')\n",
    "doc = nlp('gimme a sentence to perform customizing tokenizer')\n",
    "tokens = [token.text  for token in doc]\n",
    "tokens"
   ]
  },
  {
   "cell_type": "code",
   "execution_count": 70,
   "id": "020be381",
   "metadata": {},
   "outputs": [
    {
     "data": {
      "text/plain": [
       "['gim', 'me', 'a', 'sentence', 'to', 'perform', 'customizing', 'tokenizer']"
      ]
     },
     "execution_count": 70,
     "metadata": {},
     "output_type": "execute_result"
    }
   ],
   "source": [
    "nlp.tokenizer.add_special_case('gimme',[\n",
    "    {ORTH:'gim'},\n",
    "    {ORTH:'me'}\n",
    "])\n",
    "doc = nlp('gimme a sentence to perform customizing tokenizer')\n",
    "tokens = [token.text  for token in doc]\n",
    "tokens"
   ]
  },
  {
   "cell_type": "code",
   "execution_count": 71,
   "id": "ba037b7a",
   "metadata": {},
   "outputs": [],
   "source": [
    "doc = nlp('superman loves pav bhaji of mumbai. Hulk loves gamma radiation')"
   ]
  },
  {
   "cell_type": "code",
   "execution_count": 73,
   "id": "4f693e2a",
   "metadata": {},
   "outputs": [
    {
     "ename": "ValueError",
     "evalue": "[E030] Sentence boundaries unset. You can add the 'sentencizer' component to the pipeline with: `nlp.add_pipe('sentencizer')`. Alternatively, add the dependency parser or sentence recognizer, or set sentence boundaries by setting `doc[i].is_sent_start`.",
     "output_type": "error",
     "traceback": [
      "\u001b[1;31m---------------------------------------------------------------------------\u001b[0m",
      "\u001b[1;31mValueError\u001b[0m                                Traceback (most recent call last)",
      "\u001b[1;32m~\\AppData\\Local\\Temp\\ipykernel_8052\\509754316.py\u001b[0m in \u001b[0;36m<module>\u001b[1;34m\u001b[0m\n\u001b[1;32m----> 1\u001b[1;33m \u001b[1;32mfor\u001b[0m \u001b[0msentence\u001b[0m \u001b[1;32min\u001b[0m \u001b[0mdoc\u001b[0m\u001b[1;33m.\u001b[0m\u001b[0msents\u001b[0m\u001b[1;33m:\u001b[0m\u001b[1;33m\u001b[0m\u001b[1;33m\u001b[0m\u001b[0m\n\u001b[0m\u001b[0;32m      2\u001b[0m     \u001b[0mprint\u001b[0m\u001b[1;33m(\u001b[0m\u001b[0msentence\u001b[0m\u001b[1;33m)\u001b[0m\u001b[1;33m\u001b[0m\u001b[1;33m\u001b[0m\u001b[0m\n",
      "\u001b[1;32m~\\anaconda3\\lib\\site-packages\\spacy\\tokens\\doc.pyx\u001b[0m in \u001b[0;36msents\u001b[1;34m()\u001b[0m\n",
      "\u001b[1;31mValueError\u001b[0m: [E030] Sentence boundaries unset. You can add the 'sentencizer' component to the pipeline with: `nlp.add_pipe('sentencizer')`. Alternatively, add the dependency parser or sentence recognizer, or set sentence boundaries by setting `doc[i].is_sent_start`."
     ]
    }
   ],
   "source": [
    "for sentence in doc.sents:\n",
    "    print(sentence)"
   ]
  },
  {
   "cell_type": "code",
   "execution_count": 74,
   "id": "feca4671",
   "metadata": {},
   "outputs": [
    {
     "data": {
      "text/plain": [
       "[]"
      ]
     },
     "execution_count": 74,
     "metadata": {},
     "output_type": "execute_result"
    }
   ],
   "source": [
    "nlp.pipeline"
   ]
  },
  {
   "cell_type": "code",
   "execution_count": 75,
   "id": "7495934a",
   "metadata": {},
   "outputs": [
    {
     "data": {
      "text/plain": [
       "<spacy.pipeline.sentencizer.Sentencizer at 0x27448c4cd80>"
      ]
     },
     "execution_count": 75,
     "metadata": {},
     "output_type": "execute_result"
    }
   ],
   "source": [
    "nlp.add_pipe('sentencizer')"
   ]
  },
  {
   "cell_type": "code",
   "execution_count": 76,
   "id": "af966598",
   "metadata": {},
   "outputs": [
    {
     "data": {
      "text/plain": [
       "[('sentencizer', <spacy.pipeline.sentencizer.Sentencizer at 0x27448c4cd80>)]"
      ]
     },
     "execution_count": 76,
     "metadata": {},
     "output_type": "execute_result"
    }
   ],
   "source": [
    "nlp.pipeline"
   ]
  },
  {
   "cell_type": "code",
   "execution_count": 77,
   "id": "0129e1e9",
   "metadata": {},
   "outputs": [
    {
     "name": "stdout",
     "output_type": "stream",
     "text": [
      "superman loves pav bhaji of mumbai.\n",
      "Hulk loves gama radiation\n"
     ]
    }
   ],
   "source": [
    "doc = nlp('superman loves pav bhaji of mumbai. Hulk loves gama radiation')\n",
    "for sentence in doc.sents:\n",
    "    print(sentence)"
   ]
  },
  {
   "cell_type": "code",
   "execution_count": 78,
   "id": "54041b0f",
   "metadata": {},
   "outputs": [],
   "source": [
    "text = '''\n",
    "Look for data to help you address the question. Governments are good\n",
    "sources because data from public research is often freely available. Good\n",
    "places to start include http://www.data.gov/, and http://www.science.\n",
    "gov/, and in the United Kingdom, http://data.gov.uk/.\n",
    "Two of my favorite data sets are the General Social Survey at http://www3.norc.org/gss+website/, \n",
    "and the European Social Survey at http://www.europeansocialsurvey.org/.\n",
    "'''"
   ]
  },
  {
   "cell_type": "code",
   "execution_count": 88,
   "id": "cc42d5f4",
   "metadata": {},
   "outputs": [
    {
     "data": {
      "text/plain": [
       "['http://www.data.gov/',\n",
       " 'http://www.science',\n",
       " 'http://data.gov.uk/.',\n",
       " 'http://www3.norc.org/gss+website/',\n",
       " 'http://www.europeansocialsurvey.org/.']"
      ]
     },
     "execution_count": 88,
     "metadata": {},
     "output_type": "execute_result"
    }
   ],
   "source": [
    "doc = nlp(text)\n",
    "url = []\n",
    "for token in doc:\n",
    "    if token.like_url:\n",
    "        url.append(token.text)        \n",
    "url"
   ]
  },
  {
   "cell_type": "code",
   "execution_count": 92,
   "id": "7a56e1b6",
   "metadata": {},
   "outputs": [
    {
     "data": {
      "text/plain": [
       "['five', '$', '50', '$']"
      ]
     },
     "execution_count": 92,
     "metadata": {},
     "output_type": "execute_result"
    }
   ],
   "source": [
    "# Figure out all transaction from this text with amount and currency\n",
    "transactions = 'Sajal gave five $ to Harish, Tharun gave 50$ to vishwajeet'\n",
    "doc = nlp(transactions)\n",
    "Currency = []\n",
    "for token in doc:\n",
    "    if token.is_currency:\n",
    "        Currency.append(token.text)\n",
    "    if token.like_num:\n",
    "        Currency.append(token.text)\n",
    "Currency"
   ]
  },
  {
   "cell_type": "code",
   "execution_count": null,
   "id": "9161c6a4",
   "metadata": {},
   "outputs": [],
   "source": []
  }
 ],
 "metadata": {
  "kernelspec": {
   "display_name": "Python 3 (ipykernel)",
   "language": "python",
   "name": "python3"
  },
  "language_info": {
   "codemirror_mode": {
    "name": "ipython",
    "version": 3
   },
   "file_extension": ".py",
   "mimetype": "text/x-python",
   "name": "python",
   "nbconvert_exporter": "python",
   "pygments_lexer": "ipython3",
   "version": "3.9.13"
  }
 },
 "nbformat": 4,
 "nbformat_minor": 5
}
